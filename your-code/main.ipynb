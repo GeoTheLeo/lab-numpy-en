{
 "cells": [
  {
   "cell_type": "markdown",
   "metadata": {},
   "source": [
    "# Lab | Numpy Deep Dive"
   ]
  },
  {
   "cell_type": "markdown",
   "metadata": {},
   "source": [
    "### 1. Import the NUMPY package under the name np.\n"
   ]
  },
  {
   "cell_type": "code",
   "execution_count": 1,
   "metadata": {},
   "outputs": [],
   "source": [
    "### [your code here]\n",
    "import numpy as np"
   ]
  },
  {
   "cell_type": "markdown",
   "metadata": {},
   "source": [
    "\n",
    "\n",
    "### 2. Print the NUMPY version and the configuration.\n"
   ]
  },
  {
   "cell_type": "code",
   "execution_count": 2,
   "metadata": {},
   "outputs": [
    {
     "name": "stdout",
     "output_type": "stream",
     "text": [
      "{\n",
      "  \"Compilers\": {\n",
      "    \"c\": {\n",
      "      \"name\": \"msvc\",\n",
      "      \"linker\": \"link\",\n",
      "      \"version\": \"19.43.34808\",\n",
      "      \"commands\": \"cl\"\n",
      "    },\n",
      "    \"cython\": {\n",
      "      \"name\": \"cython\",\n",
      "      \"linker\": \"cython\",\n",
      "      \"version\": \"3.1.1\",\n",
      "      \"commands\": \"cython\"\n",
      "    },\n",
      "    \"c++\": {\n",
      "      \"name\": \"msvc\",\n",
      "      \"linker\": \"link\",\n",
      "      \"version\": \"19.43.34808\",\n",
      "      \"commands\": \"cl\"\n",
      "    }\n",
      "  },\n",
      "  \"Machine Information\": {\n",
      "    \"host\": {\n",
      "      \"cpu\": \"x86_64\",\n",
      "      \"family\": \"x86_64\",\n",
      "      \"endian\": \"little\",\n",
      "      \"system\": \"windows\"\n",
      "    },\n",
      "    \"build\": {\n",
      "      \"cpu\": \"x86_64\",\n",
      "      \"family\": \"x86_64\",\n",
      "      \"endian\": \"little\",\n",
      "      \"system\": \"windows\"\n",
      "    }\n",
      "  },\n",
      "  \"Build Dependencies\": {\n",
      "    \"blas\": {\n",
      "      \"name\": \"scipy-openblas\",\n",
      "      \"found\": true,\n",
      "      \"version\": \"0.3.29\",\n",
      "      \"detection method\": \"pkgconfig\",\n",
      "      \"include directory\": \"C:/Users/runneradmin/AppData/Local/Temp/cibw-run-8d7bajfv/cp313-win_amd64/build/venv/Lib/site-packages/scipy_openblas64/include\",\n",
      "      \"lib directory\": \"C:/Users/runneradmin/AppData/Local/Temp/cibw-run-8d7bajfv/cp313-win_amd64/build/venv/Lib/site-packages/scipy_openblas64/lib\",\n",
      "      \"openblas configuration\": \"OpenBLAS 0.3.29  USE64BITINT DYNAMIC_ARCH NO_AFFINITY Haswell MAX_THREADS=24\",\n",
      "      \"pc file directory\": \"C:/a/numpy/numpy/.openblas\"\n",
      "    },\n",
      "    \"lapack\": {\n",
      "      \"name\": \"scipy-openblas\",\n",
      "      \"found\": true,\n",
      "      \"version\": \"0.3.29\",\n",
      "      \"detection method\": \"pkgconfig\",\n",
      "      \"include directory\": \"C:/Users/runneradmin/AppData/Local/Temp/cibw-run-8d7bajfv/cp313-win_amd64/build/venv/Lib/site-packages/scipy_openblas64/include\",\n",
      "      \"lib directory\": \"C:/Users/runneradmin/AppData/Local/Temp/cibw-run-8d7bajfv/cp313-win_amd64/build/venv/Lib/site-packages/scipy_openblas64/lib\",\n",
      "      \"openblas configuration\": \"OpenBLAS 0.3.29  USE64BITINT DYNAMIC_ARCH NO_AFFINITY Haswell MAX_THREADS=24\",\n",
      "      \"pc file directory\": \"C:/a/numpy/numpy/.openblas\"\n",
      "    }\n",
      "  },\n",
      "  \"Python Information\": {\n",
      "    \"path\": \"C:\\\\Users\\\\runneradmin\\\\AppData\\\\Local\\\\Temp\\\\build-env-_4mvna30\\\\Scripts\\\\python.exe\",\n",
      "    \"version\": \"3.13\"\n",
      "  },\n",
      "  \"SIMD Extensions\": {\n",
      "    \"baseline\": [\n",
      "      \"SSE\",\n",
      "      \"SSE2\",\n",
      "      \"SSE3\"\n",
      "    ],\n",
      "    \"found\": [\n",
      "      \"SSSE3\",\n",
      "      \"SSE41\",\n",
      "      \"POPCNT\",\n",
      "      \"SSE42\",\n",
      "      \"AVX\",\n",
      "      \"F16C\",\n",
      "      \"FMA3\",\n",
      "      \"AVX2\",\n",
      "      \"AVX512F\",\n",
      "      \"AVX512CD\",\n",
      "      \"AVX512_SKX\",\n",
      "      \"AVX512_CLX\",\n",
      "      \"AVX512_CNL\",\n",
      "      \"AVX512_ICL\"\n",
      "    ]\n",
      "  }\n",
      "}\n",
      "None\n"
     ]
    },
    {
     "name": "stderr",
     "output_type": "stream",
     "text": [
      "c:\\Users\\profe\\AppData\\Local\\Programs\\Python\\Python313\\Lib\\site-packages\\numpy\\__config__.py:155: UserWarning: Install `pyyaml` for better output\n",
      "  warnings.warn(\"Install `pyyaml` for better output\", stacklevel=1)\n"
     ]
    }
   ],
   "source": [
    "### [your code here]\n",
    "print(np.show_config())"
   ]
  },
  {
   "cell_type": "markdown",
   "metadata": {},
   "source": [
    "### 3. Generate a 2x3x5 3-dimensional array with random values. Assign the array to variable \"a\"\n",
    "Challenge: there are at least three easy ways that use numpy to generate random arrays. How many ways can you find?\n"
   ]
  },
  {
   "cell_type": "code",
   "execution_count": 4,
   "metadata": {},
   "outputs": [
    {
     "name": "stdout",
     "output_type": "stream",
     "text": [
      "Shape of array: (2, 3, 5)\n",
      "Array contents:\n",
      "[[[0.09557198 0.79310768 0.93557918 0.57307318 0.25629336]\n",
      "  [0.68344924 0.53168333 0.67600671 0.67053264 0.64873654]\n",
      "  [0.84927358 0.09257649 0.57888799 0.30294618 0.35397096]]\n",
      "\n",
      " [[0.14927951 0.56889115 0.88680246 0.90609826 0.58714559]\n",
      "  [0.5879652  0.3631162  0.93958251 0.95664142 0.70668174]\n",
      "  [0.69100118 0.36037598 0.67842179 0.08861906 0.03630556]]]\n"
     ]
    }
   ],
   "source": [
    "import numpy as np\n",
    "\n",
    "# Generate a 2x3x5 3D array with random values between 0 and 1\n",
    "a = np.random.rand(2, 3, 5)\n",
    "\n",
    "print(\"Shape of array:\", a.shape)\n",
    "print(\"Array contents:\")\n",
    "print(a)\n",
    "# we can use randint for integers 0-9, random.normal and random.uniform (for uniform distr.)\n"
   ]
  },
  {
   "cell_type": "markdown",
   "metadata": {},
   "source": [
    "\n",
    "### 4. Print a.\n"
   ]
  },
  {
   "cell_type": "code",
   "execution_count": 5,
   "metadata": {},
   "outputs": [
    {
     "name": "stdout",
     "output_type": "stream",
     "text": [
      "[[[0.09557198 0.79310768 0.93557918 0.57307318 0.25629336]\n",
      "  [0.68344924 0.53168333 0.67600671 0.67053264 0.64873654]\n",
      "  [0.84927358 0.09257649 0.57888799 0.30294618 0.35397096]]\n",
      "\n",
      " [[0.14927951 0.56889115 0.88680246 0.90609826 0.58714559]\n",
      "  [0.5879652  0.3631162  0.93958251 0.95664142 0.70668174]\n",
      "  [0.69100118 0.36037598 0.67842179 0.08861906 0.03630556]]]\n"
     ]
    }
   ],
   "source": [
    "### [your code here]\n",
    "print(a)"
   ]
  },
  {
   "cell_type": "markdown",
   "metadata": {},
   "source": [
    "### 5. Create a 5x2x3 3-dimensional array with all values equaling 1.\n",
    "### Assign the array to variable \"b\"\n"
   ]
  },
  {
   "cell_type": "code",
   "execution_count": 6,
   "metadata": {},
   "outputs": [
    {
     "name": "stdout",
     "output_type": "stream",
     "text": [
      "Array 'a' shape: (2, 3, 5)\n",
      "Array 'a' contents:\n",
      "[[[0.09557198 0.79310768 0.93557918 0.57307318 0.25629336]\n",
      "  [0.68344924 0.53168333 0.67600671 0.67053264 0.64873654]\n",
      "  [0.84927358 0.09257649 0.57888799 0.30294618 0.35397096]]\n",
      "\n",
      " [[0.14927951 0.56889115 0.88680246 0.90609826 0.58714559]\n",
      "  [0.5879652  0.3631162  0.93958251 0.95664142 0.70668174]\n",
      "  [0.69100118 0.36037598 0.67842179 0.08861906 0.03630556]]]\n",
      "\n",
      "Array 'b' shape: (5, 2, 3)\n",
      "Array 'b' contents:\n",
      "[[[1. 1. 1.]\n",
      "  [1. 1. 1.]]\n",
      "\n",
      " [[1. 1. 1.]\n",
      "  [1. 1. 1.]]\n",
      "\n",
      " [[1. 1. 1.]\n",
      "  [1. 1. 1.]]\n",
      "\n",
      " [[1. 1. 1.]\n",
      "  [1. 1. 1.]]\n",
      "\n",
      " [[1. 1. 1.]\n",
      "  [1. 1. 1.]]]\n"
     ]
    }
   ],
   "source": [
    "### [your code here]\n",
    "b = np.ones((5, 2, 3))\n",
    "\n",
    "print(\"Array 'a' shape:\", a.shape)\n",
    "print(\"Array 'a' contents:\")\n",
    "print(a)\n",
    "print(\"\\nArray 'b' shape:\", b.shape)\n",
    "print(\"Array 'b' contents:\")\n",
    "print(b)"
   ]
  },
  {
   "cell_type": "markdown",
   "metadata": {},
   "source": [
    "\n",
    "### 6. Print b.\n"
   ]
  },
  {
   "cell_type": "code",
   "execution_count": 7,
   "metadata": {},
   "outputs": [
    {
     "name": "stdout",
     "output_type": "stream",
     "text": [
      "[[[1. 1. 1.]\n",
      "  [1. 1. 1.]]\n",
      "\n",
      " [[1. 1. 1.]\n",
      "  [1. 1. 1.]]\n",
      "\n",
      " [[1. 1. 1.]\n",
      "  [1. 1. 1.]]\n",
      "\n",
      " [[1. 1. 1.]\n",
      "  [1. 1. 1.]]\n",
      "\n",
      " [[1. 1. 1.]\n",
      "  [1. 1. 1.]]]\n"
     ]
    }
   ],
   "source": [
    "### [your code here]\n",
    "print(b)"
   ]
  },
  {
   "cell_type": "markdown",
   "metadata": {},
   "source": [
    "\n",
    "### 7. Do a and b have the same size? How do you prove that in Python code?\n"
   ]
  },
  {
   "cell_type": "code",
   "execution_count": 8,
   "metadata": {},
   "outputs": [],
   "source": [
    "### they both have 30 elements and can be checked with size, shape and np.prod(array.shape)\n"
   ]
  },
  {
   "cell_type": "markdown",
   "metadata": {},
   "source": [
    "\n",
    "### 8. Are you able to add a and b? Why or why not?\n"
   ]
  },
  {
   "cell_type": "code",
   "execution_count": 9,
   "metadata": {},
   "outputs": [],
   "source": [
    "### they can NOT be added because of the shapes which are not compatible a has shape 2,3,5 and b has shape 5,2,3\n"
   ]
  },
  {
   "cell_type": "markdown",
   "metadata": {},
   "source": [
    "\n",
    "\n",
    "### 9. Transpose b so that it has the same structure of a (i.e. become a 2x3x5 array). Assign the transposed array to varialbe \"c\".\n"
   ]
  },
  {
   "cell_type": "code",
   "execution_count": 11,
   "metadata": {},
   "outputs": [
    {
     "name": "stdout",
     "output_type": "stream",
     "text": [
      "\n",
      "--- Transposing Array 'b' ---\n",
      "Original b shape: (5, 2, 3)\n",
      "Transposed c shape: (2, 3, 5)\n",
      "Array 'a' shape: (2, 3, 5)\n",
      "Do a and c have the same shape? True\n",
      "\n",
      "Transposed array 'c' contents:\n",
      "[[[1. 1. 1. 1. 1.]\n",
      "  [1. 1. 1. 1. 1.]\n",
      "  [1. 1. 1. 1. 1.]]\n",
      "\n",
      " [[1. 1. 1. 1. 1.]\n",
      "  [1. 1. 1. 1. 1.]\n",
      "  [1. 1. 1. 1. 1.]]]\n"
     ]
    }
   ],
   "source": [
    "### [your code here]\n",
    "print(\"\\n--- Transposing Array 'b' ---\")\n",
    "c = b.transpose(1, 2, 0)  # re-do dimensions: (5,2,3) -> (2,3,5)\n",
    "print(\"Original b shape:\", b.shape)\n",
    "print(\"Transposed c shape:\", c.shape)\n",
    "print(\"Array 'a' shape:\", a.shape)\n",
    "print(\"Do a and c have the same shape?\", a.shape == c.shape)\n",
    "print(\"\\nTransposed array 'c' contents:\")\n",
    "print(c)\n"
   ]
  },
  {
   "cell_type": "markdown",
   "metadata": {},
   "source": [
    "\n",
    "### 10. Try to add a and c. Now it should work. Assign the sum to variable \"d\". But why does it work now?\n"
   ]
  },
  {
   "cell_type": "code",
   "execution_count": 12,
   "metadata": {},
   "outputs": [
    {
     "name": "stdout",
     "output_type": "stream",
     "text": [
      "\n",
      "--- Adding Arrays 'a' and 'c' ---\n",
      "Addition successful!\n",
      "Array 'd' shape: (2, 3, 5)\n",
      "Array 'd' contents:\n",
      "[[[1.09557198 1.79310768 1.93557918 1.57307318 1.25629336]\n",
      "  [1.68344924 1.53168333 1.67600671 1.67053264 1.64873654]\n",
      "  [1.84927358 1.09257649 1.57888799 1.30294618 1.35397096]]\n",
      "\n",
      " [[1.14927951 1.56889115 1.88680246 1.90609826 1.58714559]\n",
      "  [1.5879652  1.3631162  1.93958251 1.95664142 1.70668174]\n",
      "  [1.69100118 1.36037598 1.67842179 1.08861906 1.03630556]]]\n"
     ]
    }
   ],
   "source": [
    "### it works because a and c have the same shape (2, 3, 5) which also makes the elements compatible, which allows broadcasting - I think\n",
    "print(\"\\n--- Adding Arrays 'a' and 'c' ---\")\n",
    "d = a + c\n",
    "print(\"Addition successful!\")\n",
    "print(\"Array 'd' shape:\", d.shape)\n",
    "print(\"Array 'd' contents:\")\n",
    "print(d)\n"
   ]
  },
  {
   "cell_type": "markdown",
   "metadata": {},
   "source": [
    "\n",
    "### 11. Print a and d. Notice the difference and relation of the two array in terms of the values? Explain.\n"
   ]
  },
  {
   "cell_type": "code",
   "execution_count": 13,
   "metadata": {},
   "outputs": [
    {
     "name": "stdout",
     "output_type": "stream",
     "text": [
      "\n",
      "--- Detailed Comparison of Arrays 'a' and 'd' ---\n",
      "Array 'a' (original random values):\n",
      "[[[0.09557198 0.79310768 0.93557918 0.57307318 0.25629336]\n",
      "  [0.68344924 0.53168333 0.67600671 0.67053264 0.64873654]\n",
      "  [0.84927358 0.09257649 0.57888799 0.30294618 0.35397096]]\n",
      "\n",
      " [[0.14927951 0.56889115 0.88680246 0.90609826 0.58714559]\n",
      "  [0.5879652  0.3631162  0.93958251 0.95664142 0.70668174]\n",
      "  [0.69100118 0.36037598 0.67842179 0.08861906 0.03630556]]]\n",
      "\n",
      "Array 'd' (a + c, where c contains all 1's):\n",
      "[[[1.09557198 1.79310768 1.93557918 1.57307318 1.25629336]\n",
      "  [1.68344924 1.53168333 1.67600671 1.67053264 1.64873654]\n",
      "  [1.84927358 1.09257649 1.57888799 1.30294618 1.35397096]]\n",
      "\n",
      " [[1.14927951 1.56889115 1.88680246 1.90609826 1.58714559]\n",
      "  [1.5879652  1.3631162  1.93958251 1.95664142 1.70668174]\n",
      "  [1.69100118 1.36037598 1.67842179 1.08861906 1.03630556]]]\n",
      "\n",
      "--- Deeper Analysis ---\n",
      "Difference between arrays (d - a):\n",
      "[[[1. 1. 1. 1. 1.]\n",
      "  [1. 1. 1. 1. 1.]\n",
      "  [1. 1. 1. 1. 1.]]\n",
      "\n",
      " [[1. 1. 1. 1. 1.]\n",
      "  [1. 1. 1. 1. 1.]\n",
      "  [1. 1. 1. 1. 1.]]]\n",
      "\n",
      "--- Detailed Explanation ---\n",
      "• Array 'd' = Array 'a' + 1\n",
      "• Every element in 'd' is exactly 1 greater than the corresponding element in 'a'\n",
      "• The difference array contains all 1's, confirming this relationship\n"
     ]
    }
   ],
   "source": [
    "### [your code here]\n",
    "print(\"\\n--- Detailed Comparison of Arrays 'a' and 'd' ---\")\n",
    "print(\"Array 'a' (original random values):\")\n",
    "print(a)\n",
    "print(\"\\nArray 'd' (a + c, where c contains all 1's):\")\n",
    "print(d)\n",
    "\n",
    "print(\"\\n--- Deeper Analysis ---\")\n",
    "print(\"Difference between arrays (d - a):\")\n",
    "difference = d - a\n",
    "print(difference)\n",
    "\n",
    "print(\"\\n--- Detailed Explanation ---\")\n",
    "print(\"• Array 'd' = Array 'a' + 1\")\n",
    "print(\"• Every element in 'd' is exactly 1 greater than the corresponding element in 'a'\")\n",
    "print(\"• The difference array contains all 1's, confirming this relationship\")\n"
   ]
  },
  {
   "cell_type": "markdown",
   "metadata": {},
   "source": [
    "\n",
    "### 12. Multiply a and c. Assign the result to e.\n"
   ]
  },
  {
   "cell_type": "code",
   "execution_count": 15,
   "metadata": {},
   "outputs": [
    {
     "name": "stdout",
     "output_type": "stream",
     "text": [
      "\n",
      "--- Multiplying Arrays 'a' and 'c' ---\n",
      "Multiplication was rockin'!\n",
      "Array 'e' shape: (2, 3, 5)\n",
      "Array 'e' contents:\n",
      "[[[0.09557198 0.79310768 0.93557918 0.57307318 0.25629336]\n",
      "  [0.68344924 0.53168333 0.67600671 0.67053264 0.64873654]\n",
      "  [0.84927358 0.09257649 0.57888799 0.30294618 0.35397096]]\n",
      "\n",
      " [[0.14927951 0.56889115 0.88680246 0.90609826 0.58714559]\n",
      "  [0.5879652  0.3631162  0.93958251 0.95664142 0.70668174]\n",
      "  [0.69100118 0.36037598 0.67842179 0.08861906 0.03630556]]]\n",
      "\n",
      "--- Multiplication Analysis ---\n",
      "Since 'c' contains all 1's:\n",
      "• e = a * c = a * 1 = a\n",
      "• Every element in 'e' equals the corresponding element in 'a'\n",
      "• Multiplying by 1 leaves the original values unchanged\n",
      "\n",
      "--- Let's Verify this stuff ---\n",
      "Are arrays 'a' and 'e' identical? True\n",
      "Difference between 'a' and 'e':\n",
      "[[[0. 0. 0. 0. 0.]\n",
      "  [0. 0. 0. 0. 0.]\n",
      "  [0. 0. 0. 0. 0.]]\n",
      "\n",
      " [[0. 0. 0. 0. 0.]\n",
      "  [0. 0. 0. 0. 0.]\n",
      "  [0. 0. 0. 0. 0.]]]\n",
      "All differences are zero, confirming e = a\n"
     ]
    }
   ],
   "source": [
    "### [your code here]\n",
    "print(\"\\n--- Multiplying Arrays 'a' and 'c' ---\")\n",
    "e = a * c\n",
    "print(\"Multiplication was rockin'!\")\n",
    "print(\"Array 'e' shape:\", e.shape)\n",
    "print(\"Array 'e' contents:\")\n",
    "print(e)\n",
    "\n",
    "print(\"\\n--- Multiplication Analysis ---\")\n",
    "print(\"Since 'c' contains all 1's:\")\n",
    "print(\"• e = a * c = a * 1 = a\")\n",
    "print(\"• Every element in 'e' equals the corresponding element in 'a'\")\n",
    "print(\"• Multiplying by 1 leaves the original values unchanged\")\n",
    "\n",
    "print(\"\\n--- Let's Verify this stuff ---\")\n",
    "print(\"Are arrays 'a' and 'e' identical?\", np.array_equal(a, e))\n",
    "print(\"Difference between 'a' and 'e':\")\n",
    "print(e - a)\n",
    "print(\"All differences are zero, confirming e = a\")"
   ]
  },
  {
   "cell_type": "markdown",
   "metadata": {},
   "source": [
    "\n",
    "\n",
    "### 13. Does e equal to a? Why or why not?\n"
   ]
  },
  {
   "cell_type": "code",
   "execution_count": 17,
   "metadata": {},
   "outputs": [],
   "source": [
    "### their values are equal but have different objects and their elements are equal too all = i, j, k\n",
    "\n"
   ]
  },
  {
   "cell_type": "markdown",
   "metadata": {},
   "source": [
    "\n",
    "\n",
    "### 14. Identify the max, min, and mean values in d. Assign those values to variables \"d_max\", \"d_min\", and \"d_mean\"\n"
   ]
  },
  {
   "cell_type": "code",
   "execution_count": 19,
   "metadata": {},
   "outputs": [
    {
     "name": "stdout",
     "output_type": "stream",
     "text": [
      "\n",
      "--- Statistical Analysis of Array 'd' ---\n",
      "Maximum value in 'd': 1.9566414185515715\n",
      "Minimum value in 'd': 1.036305560074834\n",
      "Mean value in 'd': 1.5516205550225093\n",
      "\n",
      "--- Assigning Variables ---\n",
      "d_max = 1.9566414185515715\n",
      "d_min = 1.036305560074834\n",
      "d_mean = 1.5516205550225093\n",
      "\n",
      "--- tie in to original array 'a' ---\n",
      "Comparison:\n",
      "a_max = 0.9566414185515715 | d_max = 1.9566414185515715 | difference = 1.0\n",
      "a_min = 0.03630556007483399 | d_min = 1.036305560074834 | difference = 1.0\n",
      "a_mean = 0.5516205550225093 | d_mean = 1.5516205550225093 | difference = 1.0\n",
      "\n",
      "Since d = a + 1:\n",
      "• d_max = a_max + 1\n",
      "• d_min = a_min + 1\n",
      "• d_mean = a_mean + 1\n"
     ]
    }
   ],
   "source": [
    "### [your code here]\n",
    "print(\"\\n--- Statistical Analysis of Array 'd' ---\")\n",
    "d_max = np.max(d)\n",
    "d_min = np.min(d)\n",
    "d_mean = np.mean(d)\n",
    "\n",
    "print(\"Maximum value in 'd':\", d_max)\n",
    "print(\"Minimum value in 'd':\", d_min)\n",
    "print(\"Mean value in 'd':\", d_mean)\n",
    "\n",
    "print(\"\\n--- Assigning Variables ---\")\n",
    "print(\"d_max =\", d_max)\n",
    "print(\"d_min =\", d_min)\n",
    "print(\"d_mean =\", d_mean)\n",
    "\n",
    "print(\"\\n--- tie in to original array 'a' ---\")\n",
    "a_max = np.max(a)\n",
    "a_min = np.min(a)\n",
    "a_mean = np.mean(a)\n",
    "\n",
    "print(\"Comparison:\")\n",
    "print(\"a_max =\", a_max, \"| d_max =\", d_max, \"| difference =\", d_max - a_max)\n",
    "print(\"a_min =\", a_min, \"| d_min =\", d_min, \"| difference =\", d_min - a_min)\n",
    "print(\"a_mean =\", a_mean, \"| d_mean =\", d_mean, \"| difference =\", d_mean - a_mean)\n",
    "\n",
    "print(\"\\nSince d = a + 1:\")\n",
    "print(\"• d_max = a_max + 1\")\n",
    "print(\"• d_min = a_min + 1\") \n",
    "print(\"• d_mean = a_mean + 1\")\n",
    "\n"
   ]
  },
  {
   "cell_type": "markdown",
   "metadata": {},
   "source": [
    "\n",
    "### 15. Now we want to label the values in d. First create an empty array \"f\" with the same shape (i.e. 2x3x5) as d using `np.empty`.\n"
   ]
  },
  {
   "cell_type": "code",
   "execution_count": 20,
   "metadata": {},
   "outputs": [
    {
     "name": "stdout",
     "output_type": "stream",
     "text": [
      "[[[1.09557198 1.79310768 1.93557918 1.57307318 1.25629336]\n",
      "  [1.68344924 1.53168333 1.67600671 1.67053264 1.64873654]\n",
      "  [1.84927358 1.09257649 1.57888799 1.30294618 1.35397096]]\n",
      "\n",
      " [[1.14927951 1.56889115 1.88680246 1.90609826 1.58714559]\n",
      "  [1.5879652  1.3631162  1.93958251 1.95664142 1.70668174]\n",
      "  [1.69100118 1.36037598 1.67842179 1.08861906 1.03630556]]]\n"
     ]
    }
   ],
   "source": [
    "### [your code here]\n",
    "import numpy as np\n",
    "\n",
    "# Given array 'd'\n",
    "d = np.array([[[1.09557198, 1.79310768, 1.93557918, 1.57307318, 1.25629336],\n",
    "               [1.68344924, 1.53168333, 1.67600671, 1.67053264, 1.64873654],\n",
    "               [1.84927358, 1.09257649, 1.57888799, 1.30294618, 1.35397096]],\n",
    "\n",
    "              [[1.14927951, 1.56889115, 1.88680246, 1.90609826, 1.58714559],\n",
    "               [1.5879652,  1.3631162,  1.93958251, 1.95664142, 1.70668174],\n",
    "               [1.69100118, 1.36037598, 1.67842179, 1.08861906, 1.03630556]]])\n",
    "\n",
    "# Create an empty array 'f' with the same shape as 'd'\n",
    "f = np.empty((2, 3, 5))\n",
    "\n",
    "print(f)\n"
   ]
  },
  {
   "cell_type": "markdown",
   "metadata": {},
   "source": [
    "\n",
    "\n",
    "\n",
    "### 16. Populate the values in f. For each value in d, if it's larger than d_min but smaller than d_mean, assign 25 to the corresponding value in f.\n",
    "If a value in d is larger than d_mean but smaller than d_max, assign 75 to the corresponding value in f.\n",
    "If a value equals to d_mean, assign 50 to the corresponding value in f.\n",
    "Assign 0 to the corresponding value(s) in f for d_min in d.\n",
    "Assign 100 to the corresponding value(s) in f for d_max in d.\n",
    "In the end, f should have only the following values: 0, 25, 50, 75, and 100.\n",
    "Note: you don't have to use Numpy in this question.\n",
    "\n"
   ]
  },
  {
   "cell_type": "code",
   "execution_count": 21,
   "metadata": {},
   "outputs": [
    {
     "name": "stdout",
     "output_type": "stream",
     "text": [
      "d_min: 1.03630556\n",
      "d_mean: 1.5516205550000002\n",
      "\n",
      "Resulting array 'f':\n",
      "[[[25.  0.  0.  0. 25.]\n",
      "  [ 0. 25.  0.  0.  0.]\n",
      "  [ 0. 25.  0. 25. 25.]]\n",
      "\n",
      " [[25.  0.  0.  0.  0.]\n",
      "  [ 0. 25.  0.  0.  0.]\n",
      "  [ 0. 25.  0. 25.  0.]]]\n"
     ]
    }
   ],
   "source": [
    "### [your code here]\n",
    "import numpy as np\n",
    "\n",
    "# Given array 'd'\n",
    "d = np.array([[[1.09557198, 1.79310768, 1.93557918, 1.57307318, 1.25629336],\n",
    "               [1.68344924, 1.53168333, 1.67600671, 1.67053264, 1.64873654],\n",
    "               [1.84927358, 1.09257649, 1.57888799, 1.30294618, 1.35397096]],\n",
    "\n",
    "              [[1.14927951, 1.56889115, 1.88680246, 1.90609826, 1.58714559],\n",
    "               [1.5879652,  1.3631162,  1.93958251, 1.95664142, 1.70668174],\n",
    "               [1.69100118, 1.36037598, 1.67842179, 1.08861906, 1.03630556]]])\n",
    "\n",
    "# Compute d_min and d_mean\n",
    "d_min = np.min(d)\n",
    "d_mean = np.mean(d)\n",
    "\n",
    "# Create an empty array 'f' with the same shape as 'd'\n",
    "f = np.empty_like(d)  # Alternatively: np.empty(d.shape)\n",
    "\n",
    "# Assign 25 where d_min < value < d_mean, else 0 (or leave uninitialized)\n",
    "f[(d > d_min) & (d < d_mean)] = 25\n",
    "f[~((d > d_min) & (d < d_mean))] = 0  # Optional: Set other values to 0\n",
    "\n",
    "print(\"d_min:\", d_min)\n",
    "print(\"d_mean:\", d_mean)\n",
    "print(\"\\nResulting array 'f':\")\n",
    "print(f)\n"
   ]
  },
  {
   "cell_type": "markdown",
   "metadata": {},
   "source": [
    "\n",
    "\n",
    "\n",
    "\n",
    "### 17. Print d and f. Do you have your expected f?\n",
    "For instance, if your d is:\n",
    "array([[[1.85836099, 1.67064465, 1.62576044, 1.40243961, 1.88454931],\n",
    "        [1.75354326, 1.69403643, 1.36729252, 1.61415071, 1.12104981],\n",
    "        [1.72201435, 1.1862918 , 1.87078449, 1.7726778 , 1.88180042]],\n",
    "\n",
    "       [[1.44747908, 1.31673383, 1.02000951, 1.52218947, 1.97066381],\n",
    "        [1.79129243, 1.74983003, 1.96028037, 1.85166831, 1.65450881],\n",
    "        [1.18068344, 1.9587381 , 1.00656599, 1.93402165, 1.73514584]]])\n",
    "\n",
    "Your f should be:\n",
    "array([[[ 75.,  75.,  75.,  25.,  75.],\n",
    "        [ 75.,  75.,  25.,  25.,  25.],\n",
    "        [ 75.,  25.,  75.,  75.,  75.]],\n",
    "\n",
    "       [[ 25.,  25.,  25.,  25., 100.],\n",
    "        [ 75.,  75.,  75.,  75.,  75.],\n",
    "        [ 25.,  75.,   0.,  75.,  75.]]])\n",
    "\n"
   ]
  },
  {
   "cell_type": "code",
   "execution_count": 22,
   "metadata": {},
   "outputs": [],
   "source": [
    "### very strange and challenging - unexpected f print\n"
   ]
  },
  {
   "cell_type": "markdown",
   "metadata": {},
   "source": [
    "### 18. Bonus question: instead of using numbers (i.e. 0, 25, 50, 75, and 100), how to use string values \n",
    "(\"A\", \"B\", \"C\", \"D\", and \"E\") to label the array elements? You are expecting the result to be:\n",
    "array([[[ 'D',  'D',  'D',  'B',  'D'],\n",
    "        [ 'D',  'D',  'B',  'B',  'B'],\n",
    "        [ 'D',  'B',  'D',  'D',  'D']],\n",
    "\n",
    "       [[ 'B',  'B',  'B',  'B',  'E'],\n",
    "        [ 'D',  'D',  'D',  'D',  'D'],\n",
    "        [ 'B',  'D',   'A',  'D', 'D']]])\n",
    "Again, you don't need Numpy in this question."
   ]
  },
  {
   "cell_type": "code",
   "execution_count": 36,
   "metadata": {},
   "outputs": [],
   "source": [
    "### [your code here]"
   ]
  }
 ],
 "metadata": {
  "kernelspec": {
   "display_name": "Python 3",
   "language": "python",
   "name": "python3"
  },
  "language_info": {
   "codemirror_mode": {
    "name": "ipython",
    "version": 3
   },
   "file_extension": ".py",
   "mimetype": "text/x-python",
   "name": "python",
   "nbconvert_exporter": "python",
   "pygments_lexer": "ipython3",
   "version": "3.13.3"
  }
 },
 "nbformat": 4,
 "nbformat_minor": 2
}
